{
 "cells": [
  {
   "cell_type": "markdown",
   "id": "8a503fb4",
   "metadata": {},
   "source": [
    "<a target=\"_blank\" href=\"https://colab.research.google.com/github/sappw1/Dissertation/blob/main/Notebooks/Notebooks-Working/ETL/PRAC_Manual_review.ipynb\">\n",
    "  <img src=\"https://colab.research.google.com/assets/colab-badge.svg\" alt=\"Open In Colab\"/>\n",
    "</a>"
   ]
  },
  {
   "cell_type": "code",
   "execution_count": 1,
   "id": "8cdf93cc-cfd1-4f5c-991c-98239752c486",
   "metadata": {},
   "outputs": [
    {
     "name": "stdout",
     "output_type": "stream",
     "text": [
      "Saved 2523 PRAC press releases to CSV.\n"
     ]
    }
   ],
   "source": [
    "import json\n",
    "import pandas as pd\n",
    "\n",
    "# Load press releases\n",
    "with open(\"Data/Raw/pandemic_reports.json\", encoding=\"utf-8\") as f:\n",
    "    data = json.load(f)\n",
    "\n",
    "# Convert to DataFrame\n",
    "prac_df = pd.DataFrame(data)\n",
    "\n",
    "# Preview and save\n",
    "prac_df.to_csv(\"Data/Processed/prac_press_releases.csv\", index=False)\n",
    "print(f\"Saved {len(prac_df)} PRAC press releases to CSV.\")\n"
   ]
  },
  {
   "cell_type": "code",
   "execution_count": 2,
   "id": "44718171",
   "metadata": {},
   "outputs": [
    {
     "name": "stdout",
     "output_type": "stream",
     "text": [
      "✅ Saved 1270 PPP-related press releases to CSV for manual labeling.\n"
     ]
    },
    {
     "name": "stderr",
     "output_type": "stream",
     "text": [
      "C:\\Users\\sappw\\AppData\\Local\\Temp\\ipykernel_38388\\397835223.py:15: UserWarning: This pattern is interpreted as a regular expression, and has match groups. To actually get the groups, use str.extract.\n",
      "  ppp_related = prac_df[prac_df[\"full_text\"].str.contains(r\"\\b(ppp|paycheck protection program)\\b\", case=False, na=False)]\n"
     ]
    }
   ],
   "source": [
    "import json\n",
    "import pandas as pd\n",
    "\n",
    "# Load full PRAC press release dataset\n",
    "with open(\"Data/Raw/pandemic_reports.json\", encoding=\"utf-8\") as f:\n",
    "    data = json.load(f)\n",
    "\n",
    "# Convert to DataFrame\n",
    "prac_df = pd.DataFrame(data)\n",
    "\n",
    "# Combine title + body text to search\n",
    "prac_df[\"full_text\"] = prac_df[\"title\"].fillna(\"\") + \" \" + prac_df[\"press_release\"].fillna(\"\")\n",
    "\n",
    "# Filter for \"PPP\" or \"Paycheck Protection Program\"\n",
    "ppp_related = prac_df[prac_df[\"full_text\"].str.contains(r\"\\b(ppp|paycheck protection program)\\b\", case=False, na=False)]\n",
    "\n",
    "# Save filtered results to CSV\n",
    "ppp_related = ppp_related.drop(columns=[\"full_text\"])\n",
    "ppp_related.to_csv(\"Data/Processed/prac_ppp_only.csv\", index=False)\n",
    "\n",
    "print(f\"✅ Saved {len(ppp_related)} PPP-related press releases to CSV for manual labeling.\")\n"
   ]
  },
  {
   "cell_type": "code",
   "execution_count": 4,
   "id": "bb7570d1",
   "metadata": {},
   "outputs": [],
   "source": [
    "# Load cleaned PPP loan data (from your earlier pipeline)\n",
    "loan_df = pd.read_csv(\"Data/Cleaned/clean_ppp_loans22apr25.csv\")\n",
    "\n",
    "# Ensure borrower names are normalized\n",
    "loan_df[\"normalized_borrowername\"] = loan_df[\"borrowername\"].str.lower().str.replace(\".\", \"\").str.strip()"
   ]
  },
  {
   "cell_type": "code",
   "execution_count": 10,
   "id": "2c49830b",
   "metadata": {},
   "outputs": [
    {
     "data": {
      "text/html": [
       "<div>\n",
       "<style scoped>\n",
       "    .dataframe tbody tr th:only-of-type {\n",
       "        vertical-align: middle;\n",
       "    }\n",
       "\n",
       "    .dataframe tbody tr th {\n",
       "        vertical-align: top;\n",
       "    }\n",
       "\n",
       "    .dataframe thead th {\n",
       "        text-align: right;\n",
       "    }\n",
       "</style>\n",
       "<table border=\"1\" class=\"dataframe\">\n",
       "  <thead>\n",
       "    <tr style=\"text-align: right;\">\n",
       "      <th></th>\n",
       "      <th>loannumber</th>\n",
       "      <th>borrowername</th>\n",
       "      <th>currentapprovalamount</th>\n",
       "      <th>dateapproved</th>\n",
       "      <th>projectcity</th>\n",
       "      <th>projectstate</th>\n",
       "    </tr>\n",
       "  </thead>\n",
       "  <tbody>\n",
       "    <tr>\n",
       "      <th>441677</th>\n",
       "      <td>9490137905</td>\n",
       "      <td>PEACE OF MIND SERVICES INC</td>\n",
       "      <td>182709.0</td>\n",
       "      <td>2020-06-19</td>\n",
       "      <td>Baltimore</td>\n",
       "      <td>MD</td>\n",
       "    </tr>\n",
       "  </tbody>\n",
       "</table>\n",
       "</div>"
      ],
      "text/plain": [
       "        loannumber                borrowername  currentapprovalamount  \\\n",
       "441677  9490137905  PEACE OF MIND SERVICES INC               182709.0   \n",
       "\n",
       "       dateapproved projectcity projectstate  \n",
       "441677   2020-06-19   Baltimore           MD  "
      ]
     },
     "metadata": {},
     "output_type": "display_data"
    },
    {
     "name": "stdout",
     "output_type": "stream",
     "text": [
      "🔍 Found 1 matching results for 'Peace of Mind Services'.\n"
     ]
    },
    {
     "data": {
      "text/html": [
       "<div>\n",
       "<style scoped>\n",
       "    .dataframe tbody tr th:only-of-type {\n",
       "        vertical-align: middle;\n",
       "    }\n",
       "\n",
       "    .dataframe tbody tr th {\n",
       "        vertical-align: top;\n",
       "    }\n",
       "\n",
       "    .dataframe thead th {\n",
       "        text-align: right;\n",
       "    }\n",
       "</style>\n",
       "<table border=\"1\" class=\"dataframe\">\n",
       "  <thead>\n",
       "    <tr style=\"text-align: right;\">\n",
       "      <th></th>\n",
       "      <th>unnamed:_0</th>\n",
       "      <th>loannumber</th>\n",
       "      <th>dateapproved</th>\n",
       "      <th>sbaofficecode</th>\n",
       "      <th>processingmethod</th>\n",
       "      <th>borrowername</th>\n",
       "      <th>borroweraddress</th>\n",
       "      <th>borrowercity</th>\n",
       "      <th>borrowerstate</th>\n",
       "      <th>borrowerzip</th>\n",
       "      <th>...</th>\n",
       "      <th>originatinglenderlocationid</th>\n",
       "      <th>originatinglender</th>\n",
       "      <th>originatinglendercity</th>\n",
       "      <th>originatinglenderstate</th>\n",
       "      <th>gender</th>\n",
       "      <th>veteran</th>\n",
       "      <th>nonprofit</th>\n",
       "      <th>forgivenessamount</th>\n",
       "      <th>forgivenessdate</th>\n",
       "      <th>normalized_borrowername</th>\n",
       "    </tr>\n",
       "  </thead>\n",
       "  <tbody>\n",
       "    <tr>\n",
       "      <th>441677</th>\n",
       "      <td>441677</td>\n",
       "      <td>9490137905</td>\n",
       "      <td>2020-06-19</td>\n",
       "      <td>373</td>\n",
       "      <td>PPP</td>\n",
       "      <td>PEACE OF MIND SERVICES INC</td>\n",
       "      <td>3732 COLUMBUS DR</td>\n",
       "      <td>Baltimore</td>\n",
       "      <td>MD</td>\n",
       "      <td>21215-6122</td>\n",
       "      <td>...</td>\n",
       "      <td>456756</td>\n",
       "      <td>Cross River Bank</td>\n",
       "      <td>TEANECK</td>\n",
       "      <td>NJ</td>\n",
       "      <td>Female Owned</td>\n",
       "      <td>Non-Veteran</td>\n",
       "      <td>NaN</td>\n",
       "      <td>NaN</td>\n",
       "      <td>NaN</td>\n",
       "      <td>peace of mind services inc</td>\n",
       "    </tr>\n",
       "  </tbody>\n",
       "</table>\n",
       "<p>1 rows × 55 columns</p>\n",
       "</div>"
      ],
      "text/plain": [
       "        unnamed:_0  loannumber dateapproved  sbaofficecode processingmethod  \\\n",
       "441677      441677  9490137905   2020-06-19            373              PPP   \n",
       "\n",
       "                      borrowername   borroweraddress borrowercity  \\\n",
       "441677  PEACE OF MIND SERVICES INC  3732 COLUMBUS DR    Baltimore   \n",
       "\n",
       "       borrowerstate borrowerzip  ... originatinglenderlocationid  \\\n",
       "441677            MD  21215-6122  ...                      456756   \n",
       "\n",
       "       originatinglender  originatinglendercity  originatinglenderstate  \\\n",
       "441677  Cross River Bank                TEANECK                      NJ   \n",
       "\n",
       "              gender      veteran  nonprofit forgivenessamount  \\\n",
       "441677  Female Owned  Non-Veteran        NaN               NaN   \n",
       "\n",
       "        forgivenessdate     normalized_borrowername  \n",
       "441677              NaN  peace of mind services inc  \n",
       "\n",
       "[1 rows x 55 columns]"
      ]
     },
     "execution_count": 10,
     "metadata": {},
     "output_type": "execute_result"
    }
   ],
   "source": [
    "def search_borrower_name(df, query, case_insensitive=True, show_columns=None, max_results=10):\n",
    "    \"\"\"\n",
    "    Search the loan DataFrame for a borrower name containing the given query.\n",
    "    \n",
    "    Parameters:\n",
    "    - df: DataFrame of PPP loans\n",
    "    - query: String or substring to search for\n",
    "    - case_insensitive: Whether to match case-insensitively\n",
    "    - show_columns: List of columns to show (defaults to key fields)\n",
    "    - max_results: Max number of rows to return\n",
    "    \n",
    "    Returns:\n",
    "    - DataFrame with matching rows\n",
    "    \"\"\"\n",
    "    if case_insensitive:\n",
    "        mask = df['borrowername'].str.contains(query, case=False, na=False)\n",
    "    else:\n",
    "        mask = df['borrowername'].str.contains(query, na=False)\n",
    "    \n",
    "    result_df = df[mask].copy()\n",
    "    if show_columns is None:\n",
    "        show_columns = ['loannumber', 'borrowername', 'currentapprovalamount', 'dateapproved', 'projectcity', 'projectstate']\n",
    "    \n",
    "    display(result_df[show_columns].head(max_results))\n",
    "    print(f\"🔍 Found {len(result_df)} matching results for '{query}'.\")\n",
    "\n",
    "    return result_df\n",
    "\n",
    "# Example usage\n",
    "search_borrower_name(loan_df, \"Peace of Mind Services\", case_insensitive=True)\n"
   ]
  },
  {
   "cell_type": "code",
   "execution_count": null,
   "id": "a6c5b288",
   "metadata": {},
   "outputs": [
    {
     "name": "stdout",
     "output_type": "stream",
     "text": [
      " Extracted 302 labeled fraudulent loans.\n"
     ]
    }
   ],
   "source": [
    "import pandas as pd\n",
    "\n",
    "# Load your manually tagged fraud loan data\n",
    "fraud_groups = pd.read_csv(\"Data/Processed/manual_fraud_loan_ids.csv\")\n",
    "\n",
    "# Split and explode semicolon-separated Loan_app column\n",
    "fraud_groups[\"Loan_app\"] = fraud_groups[\"Loan_app\"].astype(str)\n",
    "fraud_groups[\"Loan_app\"] = fraud_groups[\"Loan_app\"].str.split(\";\")\n",
    "fraud_df = fraud_groups.explode(\"Loan_app\")\n",
    "\n",
    "# Clean up: remove whitespace, convert to integer\n",
    "fraud_df[\"Loan_app\"] = fraud_df[\"Loan_app\"].str.strip()\n",
    "fraud_df = fraud_df[fraud_df[\"Loan_app\"] != \"\"]\n",
    "fraud_df[\"LoanNumber\"] = fraud_df[\"Loan_app\"].astype(\"int64\")\n",
    "\n",
    "# Final labeled dataset\n",
    "fraud_labeled = fraud_df[[\"LoanNumber\"]].drop_duplicates()\n",
    "fraud_labeled[\"is_fraudulent\"] = 1\n",
    "\n",
    "# Save it for merging\n",
    "fraud_labeled.to_csv(\"Data/Processed/known_fraud_loans.csv\", index=False)\n",
    "print(f\" Extracted {len(fraud_labeled)} labeled fraudulent loans.\")\n"
   ]
  },
  {
   "cell_type": "code",
   "execution_count": 4,
   "id": "07576aaf",
   "metadata": {},
   "outputs": [
    {
     "name": "stdout",
     "output_type": "stream",
     "text": [
      " Final dataset: 968525 loans, 301 labeled as fraudulent.\n"
     ]
    }
   ],
   "source": [
    "import pandas as pd\n",
    "\n",
    "# Load cleaned PPP loan dataset\n",
    "loan_df = pd.read_csv(\"Data/Cleaned/clean_ppp_loans22apr25.csv\")\n",
    "\n",
    "# Load labeled fraudulent loan numbers\n",
    "fraud_labeled = pd.read_csv(\"Data/Processed/known_fraud_loans.csv\")\n",
    "\n",
    "# Ensure column name is lowercase for merge compatibility\n",
    "#fraud_labeled.rename(columns={\"LoanNumber\": \"loannumber\"}, inplace=True)\n",
    "\n",
    "# Merge and fill missing labels with 0\n",
    "loan_df = loan_df.merge(fraud_labeled, on=\"loannumber\", how=\"left\")\n",
    "loan_df[\"is_fraudulent\"] = loan_df[\"is_fraudulent\"].fillna(0).astype(int)\n",
    "\n",
    "# Save final labeled dataset\n",
    "loan_df.to_csv(\"Data/Processed/ppp_loans_labeled29apr25.csv\", index=False)\n",
    "\n",
    "print(f\" Final dataset: {len(loan_df)} loans, {loan_df['is_fraudulent'].sum()} labeled as fraudulent.\")\n"
   ]
  }
 ],
 "metadata": {
  "kernelspec": {
   "display_name": "Python 3 (ipykernel)",
   "language": "python",
   "name": "python3"
  },
  "language_info": {
   "codemirror_mode": {
    "name": "ipython",
    "version": 3
   },
   "file_extension": ".py",
   "mimetype": "text/x-python",
   "name": "python",
   "nbconvert_exporter": "python",
   "pygments_lexer": "ipython3",
   "version": "3.12.7"
  }
 },
 "nbformat": 4,
 "nbformat_minor": 5
}
