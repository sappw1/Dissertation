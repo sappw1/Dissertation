{
 "cells": [
  {
   "cell_type": "markdown",
   "id": "15eb04b8",
   "metadata": {},
   "source": [
    "<a target=\"_blank\" href=\"https://colab.research.google.com/github/sappw1/Dissertation/blob/main/Notebooks/Notebooks-Working/ETL/ppp_loan_preprocessing.ipynb\">\n",
    "  <img src=\"https://colab.research.google.com/assets/colab-badge.svg\" alt=\"Open In Colab\"/>\n",
    "</a>"
   ]
  },
  {
   "cell_type": "code",
   "execution_count": 14,
   "id": "7dc8a427-b60b-4f2e-9494-8d35a0bcb8e5",
   "metadata": {},
   "outputs": [
    {
     "name": "stdout",
     "output_type": "stream",
     "text": [
      " Loaded 968525 records.\n"
     ]
    }
   ],
   "source": [
    "# Basic tools\n",
    "import pandas as pd\n",
    "import numpy as np\n",
    "import hashlib\n",
    "from sklearn.preprocessing import StandardScaler, LabelEncoder\n",
    "\n",
    "# Load labeled PPP loan data\n",
    "loan_df = pd.read_csv(\"Data/Processed/ppp_loans_labeled29apr25.csv\")\n",
    "print(f\" Loaded {len(loan_df)} records.\")\n"
   ]
  },
  {
   "cell_type": "code",
   "execution_count": 15,
   "id": "b5f25f77",
   "metadata": {},
   "outputs": [
    {
     "name": "stdout",
     "output_type": "stream",
     "text": [
      "PII fields hashed successfully.\n"
     ]
    }
   ],
   "source": [
    "# List of PII columns to hash\n",
    "pii_columns = [\n",
    "    \"borrowername\",\n",
    "    \"borroweraddress\",\n",
    "    \"franchisename\",\n",
    "    \"servicinglendername\",\n",
    "    \"originatinglender\"\n",
    "]\n",
    "\n",
    "# Hash function using SHA-256\n",
    "def hash_text(val):\n",
    "    if pd.isnull(val):\n",
    "        return np.nan\n",
    "    return hashlib.sha256(val.encode('utf-8')).hexdigest()\n",
    "\n",
    "# Apply hashing\n",
    "for col in pii_columns:\n",
    "    if col in loan_df.columns:\n",
    "        loan_df[col] = loan_df[col].apply(hash_text)\n",
    "\n",
    "print(\"PII fields hashed successfully.\")"
   ]
  },
  {
   "cell_type": "code",
   "execution_count": 16,
   "id": "e14d4c98",
   "metadata": {},
   "outputs": [
    {
     "name": "stdout",
     "output_type": "stream",
     "text": [
      " Categorical variables encoded.\n"
     ]
    }
   ],
   "source": [
    "# Binary Variables → One-hot Encoding\n",
    "binary_vars = [\"ruralurbanindicator\", \"hubzoneindicator\"]\n",
    "loan_df = pd.get_dummies(loan_df, columns=binary_vars, drop_first=True)\n",
    "\n",
    "# Multi-class Variables → Label Encoding (handling missing)\n",
    "multi_class_vars = [\"borrowerstate\", \"businesstype\", \"naicscode\"]\n",
    "\n",
    "for col in multi_class_vars:\n",
    "    if col in loan_df.columns:\n",
    "        # Convert everything to string to avoid mixed types\n",
    "        loan_df[col] = loan_df[col].astype(str).fillna(\"Missing\")\n",
    "        loan_df[col] = loan_df[col].replace(\"nan\", \"Missing\")  # Clean any str-nan\n",
    "        encoder = LabelEncoder()\n",
    "        loan_df[col] = encoder.fit_transform(loan_df[col])\n",
    "\n",
    "print(\" Categorical variables encoded.\")\n"
   ]
  },
  {
   "cell_type": "code",
   "execution_count": 17,
   "id": "1f270c4f",
   "metadata": {},
   "outputs": [
    {
     "name": "stdout",
     "output_type": "stream",
     "text": [
      "ForgivenessAmountRatio feature created.\n"
     ]
    }
   ],
   "source": [
    "# Create ForgivenessAmountRatio feature\n",
    "if \"forgivenessamount\" in loan_df.columns and \"currentapprovalamount\" in loan_df.columns:\n",
    "    loan_df[\"forgivenessamountratio\"] = loan_df[\"forgivenessamount\"] / loan_df[\"currentapprovalamount\"]\n",
    "\n",
    "    # Handle any weird cases like division by zero or missing values\n",
    "    loan_df[\"forgivenessamountratio\"] = loan_df[\"forgivenessamountratio\"].replace([np.inf, -np.inf], np.nan)\n",
    "    loan_df[\"forgivenessamountratio\"] = loan_df[\"forgivenessamountratio\"].fillna(0)\n",
    "\n",
    "    print(\"ForgivenessAmountRatio feature created.\")\n",
    "else:\n",
    "    print(\"ForgivenessAmountRatio could not be created — missing columns.\")\n"
   ]
  },
  {
   "cell_type": "code",
   "execution_count": 18,
   "id": "19d01f05",
   "metadata": {},
   "outputs": [
    {
     "name": "stdout",
     "output_type": "stream",
     "text": [
      " Created missingness indicators. Dropped columns: ['franchisename', 'utilities_proceed', 'mortgage_interest_proceed', 'rent_proceed', 'refinance_eidl_proceed', 'health_care_proceed', 'debt_interest_proceed', 'nonprofit']\n"
     ]
    }
   ],
   "source": [
    "# Create missingness indicators for key numeric fields\n",
    "important_numeric = [\"jobsreported\", \"currentapprovalamount\"]\n",
    "\n",
    "for col in important_numeric:\n",
    "    missing_col = f\"{col}_missing\"\n",
    "    loan_df[missing_col] = loan_df[col].isnull().astype(int)\n",
    "\n",
    "# Drop features with excessive missingness (threshold: >30%)\n",
    "missing_threshold = 0.3\n",
    "missing_fractions = loan_df.isnull().mean()\n",
    "columns_to_drop = missing_fractions[missing_fractions > missing_threshold].index.tolist()\n",
    "\n",
    "loan_df = loan_df.drop(columns=columns_to_drop)\n",
    "\n",
    "print(f\" Created missingness indicators. Dropped columns: {columns_to_drop}\")\n"
   ]
  },
  {
   "cell_type": "code",
   "execution_count": 19,
   "id": "1e88f378",
   "metadata": {},
   "outputs": [
    {
     "name": "stdout",
     "output_type": "stream",
     "text": [
      " Numeric features scaled.\n"
     ]
    }
   ],
   "source": [
    "# Features to scale\n",
    "numeric_features = [\"currentapprovalamount\", \"jobsreported\"]\n",
    "\n",
    "scaler = StandardScaler()\n",
    "loan_df[numeric_features] = scaler.fit_transform(loan_df[numeric_features])\n",
    "\n",
    "print(\" Numeric features scaled.\")"
   ]
  },
  {
   "cell_type": "code",
   "execution_count": 20,
   "id": "44ce44e9",
   "metadata": {},
   "outputs": [
    {
     "name": "stdout",
     "output_type": "stream",
     "text": [
      " Dropped 'normalized_borrowername' column.\n",
      " Preprocessed dataset saved: 968525 records, 301 fraud cases.\n"
     ]
    }
   ],
   "source": [
    "# Drop normalized_borrowername\n",
    "if \"normalized_borrowername\" in loan_df.columns:\n",
    "    loan_df = loan_df.drop(columns=[\"normalized_borrowername\"])\n",
    "    print(\" Dropped 'normalized_borrowername' column.\")\n",
    "\n",
    "# Save preprocessed dataset\n",
    "loan_df.to_csv(\"Data/Processed/ppp_loans_preprocessed.csv\", index=False)\n",
    "print(f\" Preprocessed dataset saved: {len(loan_df)} records, {loan_df['is_fraudulent'].sum()} fraud cases.\")\n",
    "\n"
   ]
  },
  {
   "cell_type": "code",
   "execution_count": 13,
   "id": "0b6702f1",
   "metadata": {},
   "outputs": [
    {
     "data": {
      "text/html": [
       "<div>\n",
       "<style scoped>\n",
       "    .dataframe tbody tr th:only-of-type {\n",
       "        vertical-align: middle;\n",
       "    }\n",
       "\n",
       "    .dataframe tbody tr th {\n",
       "        vertical-align: top;\n",
       "    }\n",
       "\n",
       "    .dataframe thead th {\n",
       "        text-align: right;\n",
       "    }\n",
       "</style>\n",
       "<table border=\"1\" class=\"dataframe\">\n",
       "  <thead>\n",
       "    <tr style=\"text-align: right;\">\n",
       "      <th></th>\n",
       "      <th>unnamed:_0</th>\n",
       "      <th>loannumber</th>\n",
       "      <th>dateapproved</th>\n",
       "      <th>sbaofficecode</th>\n",
       "      <th>processingmethod</th>\n",
       "      <th>borrowername</th>\n",
       "      <th>borroweraddress</th>\n",
       "      <th>borrowercity</th>\n",
       "      <th>borrowerstate</th>\n",
       "      <th>borrowerzip</th>\n",
       "      <th>...</th>\n",
       "      <th>originatinglenderstate</th>\n",
       "      <th>gender</th>\n",
       "      <th>veteran</th>\n",
       "      <th>forgivenessamount</th>\n",
       "      <th>forgivenessdate</th>\n",
       "      <th>is_fraudulent</th>\n",
       "      <th>ruralurbanindicator_U</th>\n",
       "      <th>hubzoneindicator_Y</th>\n",
       "      <th>jobsreported_missing</th>\n",
       "      <th>currentapprovalamount_missing</th>\n",
       "    </tr>\n",
       "  </thead>\n",
       "  <tbody>\n",
       "    <tr>\n",
       "      <th>0</th>\n",
       "      <td>0</td>\n",
       "      <td>9547507704</td>\n",
       "      <td>2020-05-01</td>\n",
       "      <td>464</td>\n",
       "      <td>PPP</td>\n",
       "      <td>ac3af1e5335672f4c44127dfcea32c215de8a22854d22e...</td>\n",
       "      <td>4cf412775ae7d7bde6a0d5a0a8ec617eb93cd3c73f44bb...</td>\n",
       "      <td>Sumter</td>\n",
       "      <td>30</td>\n",
       "      <td>29150-9662</td>\n",
       "      <td>...</td>\n",
       "      <td>GA</td>\n",
       "      <td>Unanswered</td>\n",
       "      <td>Unanswered</td>\n",
       "      <td>773553.37</td>\n",
       "      <td>11/20/2020</td>\n",
       "      <td>0</td>\n",
       "      <td>True</td>\n",
       "      <td>False</td>\n",
       "      <td>0</td>\n",
       "      <td>0</td>\n",
       "    </tr>\n",
       "    <tr>\n",
       "      <th>1</th>\n",
       "      <td>1</td>\n",
       "      <td>9777677704</td>\n",
       "      <td>2020-05-01</td>\n",
       "      <td>464</td>\n",
       "      <td>PPP</td>\n",
       "      <td>798a95683afc8cd1f543b4398626d3d24367fafffbe225...</td>\n",
       "      <td>2495392e77c85ab99450ef3b2135f32b7a5e3e61d84376...</td>\n",
       "      <td>North Charleston</td>\n",
       "      <td>30</td>\n",
       "      <td>29420-9000</td>\n",
       "      <td>...</td>\n",
       "      <td>GA</td>\n",
       "      <td>Male Owned</td>\n",
       "      <td>Non-Veteran</td>\n",
       "      <td>746336.24</td>\n",
       "      <td>08/12/2021</td>\n",
       "      <td>0</td>\n",
       "      <td>True</td>\n",
       "      <td>True</td>\n",
       "      <td>0</td>\n",
       "      <td>0</td>\n",
       "    </tr>\n",
       "    <tr>\n",
       "      <th>2</th>\n",
       "      <td>2</td>\n",
       "      <td>5791407702</td>\n",
       "      <td>2020-05-01</td>\n",
       "      <td>1013</td>\n",
       "      <td>PPP</td>\n",
       "      <td>186194fcd236b4b2c4457c3a2134addd64a5b222f5625c...</td>\n",
       "      <td>fa10ad2fa068b1eadc6e7e39acf92082a627332a928c51...</td>\n",
       "      <td>SEATTLE</td>\n",
       "      <td>30</td>\n",
       "      <td>98112-2922</td>\n",
       "      <td>...</td>\n",
       "      <td>NC</td>\n",
       "      <td>Unanswered</td>\n",
       "      <td>Unanswered</td>\n",
       "      <td>696677.49</td>\n",
       "      <td>02/10/2021</td>\n",
       "      <td>0</td>\n",
       "      <td>True</td>\n",
       "      <td>False</td>\n",
       "      <td>0</td>\n",
       "      <td>0</td>\n",
       "    </tr>\n",
       "    <tr>\n",
       "      <th>3</th>\n",
       "      <td>3</td>\n",
       "      <td>6223567700</td>\n",
       "      <td>2020-05-01</td>\n",
       "      <td>920</td>\n",
       "      <td>PPP</td>\n",
       "      <td>0d7ff9bd4ef379df30409ff5f929094648b6f304225c72...</td>\n",
       "      <td>0cfeef203e74ace3650feefbfaf67f01a64ecb8fe216d6...</td>\n",
       "      <td>SAN BERNARDINO</td>\n",
       "      <td>30</td>\n",
       "      <td>92407-1740</td>\n",
       "      <td>...</td>\n",
       "      <td>NC</td>\n",
       "      <td>Male Owned</td>\n",
       "      <td>Non-Veteran</td>\n",
       "      <td>395264.11</td>\n",
       "      <td>09/10/2021</td>\n",
       "      <td>0</td>\n",
       "      <td>True</td>\n",
       "      <td>False</td>\n",
       "      <td>0</td>\n",
       "      <td>0</td>\n",
       "    </tr>\n",
       "    <tr>\n",
       "      <th>4</th>\n",
       "      <td>4</td>\n",
       "      <td>9662437702</td>\n",
       "      <td>2020-05-01</td>\n",
       "      <td>101</td>\n",
       "      <td>PPP</td>\n",
       "      <td>c00d8bf886c74e6018aa0e135eef6daf717540d26a89f2...</td>\n",
       "      <td>NaN</td>\n",
       "      <td>NaN</td>\n",
       "      <td>30</td>\n",
       "      <td>NaN</td>\n",
       "      <td>...</td>\n",
       "      <td>OH</td>\n",
       "      <td>Unanswered</td>\n",
       "      <td>Unanswered</td>\n",
       "      <td>370819.35</td>\n",
       "      <td>04/08/2021</td>\n",
       "      <td>0</td>\n",
       "      <td>True</td>\n",
       "      <td>False</td>\n",
       "      <td>0</td>\n",
       "      <td>0</td>\n",
       "    </tr>\n",
       "  </tbody>\n",
       "</table>\n",
       "<p>5 rows × 49 columns</p>\n",
       "</div>"
      ],
      "text/plain": [
       "   unnamed:_0  loannumber dateapproved  sbaofficecode processingmethod  \\\n",
       "0           0  9547507704   2020-05-01            464              PPP   \n",
       "1           1  9777677704   2020-05-01            464              PPP   \n",
       "2           2  5791407702   2020-05-01           1013              PPP   \n",
       "3           3  6223567700   2020-05-01            920              PPP   \n",
       "4           4  9662437702   2020-05-01            101              PPP   \n",
       "\n",
       "                                        borrowername  \\\n",
       "0  ac3af1e5335672f4c44127dfcea32c215de8a22854d22e...   \n",
       "1  798a95683afc8cd1f543b4398626d3d24367fafffbe225...   \n",
       "2  186194fcd236b4b2c4457c3a2134addd64a5b222f5625c...   \n",
       "3  0d7ff9bd4ef379df30409ff5f929094648b6f304225c72...   \n",
       "4  c00d8bf886c74e6018aa0e135eef6daf717540d26a89f2...   \n",
       "\n",
       "                                     borroweraddress      borrowercity  \\\n",
       "0  4cf412775ae7d7bde6a0d5a0a8ec617eb93cd3c73f44bb...            Sumter   \n",
       "1  2495392e77c85ab99450ef3b2135f32b7a5e3e61d84376...  North Charleston   \n",
       "2  fa10ad2fa068b1eadc6e7e39acf92082a627332a928c51...           SEATTLE   \n",
       "3  0cfeef203e74ace3650feefbfaf67f01a64ecb8fe216d6...    SAN BERNARDINO   \n",
       "4                                                NaN               NaN   \n",
       "\n",
       "   borrowerstate borrowerzip  ... originatinglenderstate      gender  \\\n",
       "0             30  29150-9662  ...                     GA  Unanswered   \n",
       "1             30  29420-9000  ...                     GA  Male Owned   \n",
       "2             30  98112-2922  ...                     NC  Unanswered   \n",
       "3             30  92407-1740  ...                     NC  Male Owned   \n",
       "4             30         NaN  ...                     OH  Unanswered   \n",
       "\n",
       "       veteran  forgivenessamount  forgivenessdate  is_fraudulent  \\\n",
       "0   Unanswered          773553.37       11/20/2020              0   \n",
       "1  Non-Veteran          746336.24       08/12/2021              0   \n",
       "2   Unanswered          696677.49       02/10/2021              0   \n",
       "3  Non-Veteran          395264.11       09/10/2021              0   \n",
       "4   Unanswered          370819.35       04/08/2021              0   \n",
       "\n",
       "   ruralurbanindicator_U  hubzoneindicator_Y jobsreported_missing  \\\n",
       "0                   True               False                    0   \n",
       "1                   True                True                    0   \n",
       "2                   True               False                    0   \n",
       "3                   True               False                    0   \n",
       "4                   True               False                    0   \n",
       "\n",
       "  currentapprovalamount_missing  \n",
       "0                             0  \n",
       "1                             0  \n",
       "2                             0  \n",
       "3                             0  \n",
       "4                             0  \n",
       "\n",
       "[5 rows x 49 columns]"
      ]
     },
     "execution_count": 13,
     "metadata": {},
     "output_type": "execute_result"
    }
   ],
   "source": [
    "loan_df.head()"
   ]
  }
 ],
 "metadata": {
  "kernelspec": {
   "display_name": "Python 3 (ipykernel)",
   "language": "python",
   "name": "python3"
  },
  "language_info": {
   "codemirror_mode": {
    "name": "ipython",
    "version": 3
   },
   "file_extension": ".py",
   "mimetype": "text/x-python",
   "name": "python",
   "nbconvert_exporter": "python",
   "pygments_lexer": "ipython3",
   "version": "3.12.7"
  }
 },
 "nbformat": 4,
 "nbformat_minor": 5
}
