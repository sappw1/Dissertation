{
 "cells": [
  {
   "cell_type": "code",
   "execution_count": 1,
   "id": "bc29c59d-8b80-433a-8847-caefcf291bb2",
   "metadata": {},
   "outputs": [],
   "source": [
    "import pandas as pd\n",
    "import re\n",
    "\n",
    "# === STEP 1: Load Raw PPP Loan Data ===\n",
    "def load_ppp_loan_data(filepath):\n",
    "    \"\"\"\n",
    "    Loads PPP loan data from CSV with encoding fallback.\n",
    "    \"\"\"\n",
    "    try:\n",
    "        df = pd.read_csv(filepath, encoding='utf-8')\n",
    "    except UnicodeDecodeError:\n",
    "        df = pd.read_csv(filepath, encoding='ISO-8859-1')\n",
    "\n",
    "    print(f\" Loaded {len(df):,} records.\")\n",
    "    return df\n",
    "\n",
    "\n",
    "# === STEP 2: Clean Column Names ===\n",
    "def clean_column_names(df):\n",
    "    \"\"\"\n",
    "    Standardizes column names: lowercase, underscores, no dashes or spaces.\n",
    "    \"\"\"\n",
    "    df.columns = (\n",
    "        df.columns\n",
    "        .str.strip()\n",
    "        .str.lower()\n",
    "        .str.replace(\" \", \"_\", regex=False)\n",
    "        .str.replace(\"-\", \"_\", regex=False)\n",
    "    )\n",
    "    return df\n",
    "\n",
    "\n",
    "# === STEP 3: Filter and Clean Core Records ===\n",
    "def clean_records(df):\n",
    "    \"\"\"\n",
    "    Removes duplicates, filters zero/negative loans, and parses dates.\n",
    "    \"\"\"\n",
    "    if 'loannumber' in df.columns:\n",
    "        df = df.drop_duplicates(subset='loannumber')\n",
    "\n",
    "    if 'currentapprovalamount' in df.columns:\n",
    "        df = df[pd.to_numeric(df['currentapprovalamount'], errors='coerce') > 0]\n",
    "\n",
    "    if 'dateapproved' in df.columns:\n",
    "        df['dateapproved'] = pd.to_datetime(df['dateapproved'], errors='coerce')\n",
    "        df = df[df['dateapproved'].notna()]\n",
    "\n",
    "    return df\n",
    "\n",
    "\n",
    "# === STEP 4 : Normalize Borrower Names ===\n",
    "def normalize_entity(entity):\n",
    "    if isinstance(entity, str):\n",
    "        entity = entity.lower().replace(\".\", \"\").strip()\n",
    "        entity = re.sub(r\"\\s+(llc|inc|corp|ltd)\\.?$\", \"\", entity)\n",
    "    else:\n",
    "        entity = \"\"\n",
    "    return entity\n",
    "\n",
    "def normalize_borrower_names(df):\n",
    "    \"\"\"\n",
    "    Adds normalized borrower name column for fuzzy matching and modeling.\n",
    "    \"\"\"\n",
    "    if 'borrowername' in df.columns:\n",
    "        df['normalized_borrowername'] = df['borrowername'].apply(normalize_entity)\n",
    "    return df\n",
    "\n",
    "\n",
    "# === MASTER FUNCTION TO RUN THESE STEPS ===\n",
    "def preprocess_ppp_loans(filepath):\n",
    "    df = load_ppp_loan_data(filepath)\n",
    "    df = clean_column_names(df)\n",
    "    df = clean_records(df)\n",
    "    df = normalize_borrower_names(df)\n",
    "    print(f\" Final dataset: {len(df):,} cleaned records.\")\n",
    "    return df\n"
   ]
  },
  {
   "cell_type": "code",
   "execution_count": 2,
   "id": "e8fb6952",
   "metadata": {},
   "outputs": [
    {
     "name": "stdout",
     "output_type": "stream",
     "text": [
      " Loaded 968,525 records.\n",
      " Final dataset: 968,525 cleaned records.\n"
     ]
    }
   ],
   "source": [
    "df_cleaned = preprocess_ppp_loans(\"Data/Raw/PPP_Loan_apps.csv\")\n",
    "df_cleaned.to_csv(\"Data/Cleaned/clean_ppp_loans22apr25.csv\", index=False)\n"
   ]
  }
 ],
 "metadata": {
  "kernelspec": {
   "display_name": "Python 3 (ipykernel)",
   "language": "python",
   "name": "python3"
  },
  "language_info": {
   "codemirror_mode": {
    "name": "ipython",
    "version": 3
   },
   "file_extension": ".py",
   "mimetype": "text/x-python",
   "name": "python",
   "nbconvert_exporter": "python",
   "pygments_lexer": "ipython3",
   "version": "3.12.7"
  }
 },
 "nbformat": 4,
 "nbformat_minor": 5
}
