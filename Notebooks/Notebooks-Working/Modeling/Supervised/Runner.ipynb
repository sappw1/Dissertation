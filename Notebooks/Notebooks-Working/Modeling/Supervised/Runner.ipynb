{
  "nbformat": 4,
  "nbformat_minor": 0,
  "metadata": {
    "colab": {
      "provenance": [],
      "authorship_tag": "ABX9TyOjArFA8P+/AXugrXmMTFk4",
      "include_colab_link": true
    },
    "kernelspec": {
      "name": "python3",
      "display_name": "Python 3"
    },
    "language_info": {
      "name": "python"
    }
  },
  "cells": [
    {
      "cell_type": "markdown",
      "metadata": {
        "id": "view-in-github",
        "colab_type": "text"
      },
      "source": [
        "<a href=\"https://colab.research.google.com/github/sappw1/Dissertation/blob/main/Notebooks/Notebooks-Working/Modeling/Supervised/Runner.ipynb\" target=\"_parent\"><img src=\"https://colab.research.google.com/assets/colab-badge.svg\" alt=\"Open In Colab\"/></a>"
      ]
    },
    {
      "cell_type": "code",
      "execution_count": null,
      "metadata": {
        "id": "nNwVREyjMw_P"
      },
      "outputs": [],
      "source": [
        "from google.colab import drive\n",
        "drive.mount('/content/drive')\n",
        "\n",
        "import sys\n",
        "sys.path.append('/content/drive/MyDrive/NCU/Dissertation/Scripts/supervised_modeling')\n",
        "\n",
        "from configs import experiment_configs\n",
        "from train_pipeline import run_experiment\n",
        "\n",
        "with open(\"model_config.json\", \"r\") as f:\n",
        "    cluster_config_list = json.load(f)\n",
        "\n",
        "\n",
        "# Run all experiments\n",
        "for config in experiment_configs:\n",
        "    run_experiment(config)\n",
        "\n",
        "for model_cfg in experiment_configs:\n",
        "for cluster_cfg in cluster_config_list:  # load from model_config.json\n",
        "    # Merge config and run model\n",
        "    run_model(model_cfg, cluster_cfg)\n",
        "\n"
      ]
    }
  ]
}