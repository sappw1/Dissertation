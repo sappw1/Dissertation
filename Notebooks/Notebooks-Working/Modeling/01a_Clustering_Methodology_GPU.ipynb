{
  "nbformat": 4,
  "nbformat_minor": 0,
  "metadata": {
    "colab": {
      "provenance": [],
      "machine_shape": "hm",
      "gpuType": "A100",
      "authorship_tag": "ABX9TyNuk/Yp3Qfs6OrE9uXEjhM/",
      "include_colab_link": true
    },
    "kernelspec": {
      "name": "python3",
      "display_name": "Python 3"
    },
    "language_info": {
      "name": "python"
    },
    "accelerator": "GPU"
  },
  "cells": [
    {
      "cell_type": "markdown",
      "metadata": {
        "id": "view-in-github",
        "colab_type": "text"
      },
      "source": [
        "<a href=\"https://colab.research.google.com/github/sappw1/Dissertation/blob/main/Notebooks/Notebooks-Working/Modeling/01a_Clustering_Methodology_GPU.ipynb\" target=\"_parent\"><img src=\"https://colab.research.google.com/assets/colab-badge.svg\" alt=\"Open In Colab\"/></a>"
      ]
    },
    {
      "cell_type": "code",
      "source": [
        "!nvidia-smi"
      ],
      "metadata": {
        "colab": {
          "base_uri": "https://localhost:8080/"
        },
        "id": "-h_i1GkurKlW",
        "outputId": "5fe0ab5c-15b2-41be-a4ae-db12c431bceb"
      },
      "execution_count": 1,
      "outputs": [
        {
          "output_type": "stream",
          "name": "stdout",
          "text": [
            "Tue May 13 16:36:23 2025       \n",
            "+-----------------------------------------------------------------------------------------+\n",
            "| NVIDIA-SMI 550.54.15              Driver Version: 550.54.15      CUDA Version: 12.4     |\n",
            "|-----------------------------------------+------------------------+----------------------+\n",
            "| GPU  Name                 Persistence-M | Bus-Id          Disp.A | Volatile Uncorr. ECC |\n",
            "| Fan  Temp   Perf          Pwr:Usage/Cap |           Memory-Usage | GPU-Util  Compute M. |\n",
            "|                                         |                        |               MIG M. |\n",
            "|=========================================+========================+======================|\n",
            "|   0  NVIDIA A100-SXM4-40GB          Off |   00000000:00:04.0 Off |                    0 |\n",
            "| N/A   34C    P0             47W /  400W |       0MiB /  40960MiB |      0%      Default |\n",
            "|                                         |                        |             Disabled |\n",
            "+-----------------------------------------+------------------------+----------------------+\n",
            "                                                                                         \n",
            "+-----------------------------------------------------------------------------------------+\n",
            "| Processes:                                                                              |\n",
            "|  GPU   GI   CI        PID   Type   Process name                              GPU Memory |\n",
            "|        ID   ID                                                               Usage      |\n",
            "|=========================================================================================|\n",
            "|  No running processes found                                                             |\n",
            "+-----------------------------------------------------------------------------------------+\n"
          ]
        }
      ]
    },
    {
      "cell_type": "code",
      "source": [
        "from google.colab import drive\n",
        "import pandas as pd\n",
        "import numpy as np\n",
        "import matplotlib.pyplot as plt\n",
        "import cudf\n",
        "import cupy as cp\n",
        "import json, time, os\n",
        "from datetime import datetime\n",
        "from cuml.cluster import KMeans as cuKMeans\n",
        "from cuml.metrics.cluster.silhouette_score import cython_silhouette_score\n",
        "from sklearn.metrics import davies_bouldin_score\n",
        "# APA Style\n",
        "plt.style.use(\"default\")  # You can upload apa.mplstyle if needed"
      ],
      "metadata": {
        "id": "k5sSsYIPtFI_"
      },
      "execution_count": 2,
      "outputs": []
    },
    {
      "cell_type": "code",
      "source": [
        "import warnings\n",
        "warnings.filterwarnings('ignore')"
      ],
      "metadata": {
        "id": "0Rl0W9BtLGkF"
      },
      "execution_count": 3,
      "outputs": []
    },
    {
      "cell_type": "code",
      "source": [
        "# Mount your Drive\n",
        "drive.mount('/content/drive')\n",
        "\n",
        "# Set the path where your files are stored\n",
        "input_dir = \"/content/drive/MyDrive/NCU/Dissertation/Data/Processed/PCA_Arrays\"\n",
        "\n",
        "# Load each file\n",
        "X_all_pca = cp.load(os.path.join(input_dir, \"X_all_pca.npy\"))\n",
        "X_all_pca_2 = cp.load(os.path.join(input_dir, \"X_all_pca_2.npy\"))\n",
        "X_all_pca_3 = cp.load(os.path.join(input_dir, \"X_all_pca_3.npy\"))\n",
        "X_key_pca = cp.load(os.path.join(input_dir, \"X_key_pca.npy\"))\n",
        "X_key_pca_2 = cp.load(os.path.join(input_dir, \"X_key_pca_2.npy\"))\n",
        "X_key_pca_3 = cp.load(os.path.join(input_dir, \"X_key_pca_3.npy\"))\n",
        "\n",
        "print(\"All PCA arrays loaded from Google Drive.\")\n",
        "\n",
        "# Convert to GPU cuDF format\n",
        "def to_cudf(cp_array):\n",
        "    return cudf.DataFrame(cp_array)\n",
        "\n",
        "# Input dictionary\n",
        "pca_inputs = {\n",
        "    \"Full (95%)\": to_cudf(X_all_pca),\n",
        "    \"Full (2C)\": to_cudf(X_all_pca_2),\n",
        "    \"Full (3C)\": to_cudf(X_all_pca_3),\n",
        "    \"Key (95%)\": to_cudf(X_key_pca),\n",
        "    \"Key (2C)\": to_cudf(X_key_pca_2),\n",
        "    \"Key (3C)\": to_cudf(X_key_pca_3),\n",
        "}"
      ],
      "metadata": {
        "colab": {
          "base_uri": "https://localhost:8080/"
        },
        "id": "e17ARTeBoZpH",
        "outputId": "19ba19ae-ad9b-4ae8-b91f-7f1f0638dc16"
      },
      "execution_count": 4,
      "outputs": [
        {
          "output_type": "stream",
          "name": "stdout",
          "text": [
            "Mounted at /content/drive\n",
            "All PCA arrays loaded from Google Drive.\n"
          ]
        }
      ]
    },
    {
      "cell_type": "code",
      "source": [
        "# Storage\n",
        "kmeans_results = {}\n",
        "checkpoint_path = \"/content/drive/MyDrive/NCU/Dissertation/Data/Processed/kmeans_gpu_progress.json\"  # Save to Drive if mounted\n",
        "\n",
        "os.makedirs(os.path.dirname(checkpoint_path), exist_ok=True)\n",
        "\n",
        "# Loop\n",
        "for name, X in pca_inputs.items():\n",
        "    print(f\"\\n [{datetime.now().strftime('%H:%M:%S')}] Starting GPU K-Means for: {name} | Shape: {X.shape}\")\n",
        "    start_time = time.time()\n",
        "\n",
        "    distortions = []\n",
        "    silhouette_scores = []\n",
        "    K_range = range(2, 10)\n",
        "\n",
        "    for k in K_range:\n",
        "        t0 = time.time()\n",
        "        km = cuKMeans(n_clusters=k, random_state=42, n_init=\"auto\")\n",
        "        km.fit(X)\n",
        "        labels = km.predict(X)\n",
        "        inertia = float(km.inertia_)\n",
        "        sil = float(cython_silhouette_score(X, labels, metric='euclidean'))\n",
        "        distortions.append(inertia)\n",
        "        silhouette_scores.append(sil)\n",
        "        print(f\"     k={k} | Silhouette={sil:.4f} | Time: {time.time() - t0:.2f}s\")\n",
        "\n",
        "    optimal_k = K_range[np.argmax(silhouette_scores)]\n",
        "    print(f\" Optimal k: {optimal_k}\")\n",
        "\n",
        "    # Final model\n",
        "    final_km = cuKMeans(n_clusters=optimal_k, random_state=42)\n",
        "    final_labels = final_km.fit_predict(X)\n",
        "    db_index = davies_bouldin_score(X.to_numpy(), final_labels.to_numpy())\n",
        "    final_silhouette = float(cython_silhouette_score(X, final_labels, metric='euclidean'))\n",
        "\n",
        "    print(f\"Final Metrics | Silhouette={final_silhouette:.4f} | Time: {time.time() - start_time:.2f}s\")\n",
        "\n",
        "    # Store results\n",
        "    kmeans_results[name] = {\n",
        "        \"optimal_k\": int(optimal_k),\n",
        "        \"silhouette\": final_silhouette,\n",
        "        \"db_index\": db_index,\n",
        "        \"k_values\": list(K_range),\n",
        "        \"silhouette_scores\": silhouette_scores,\n",
        "        \"distortions\": distortions,\n",
        "    }\n",
        "\n",
        "    # Save checkpoint\n",
        "    with open(checkpoint_path, \"w\") as f:\n",
        "        json.dump(kmeans_results, f, indent=4)\n",
        "\n",
        "    print(f\" Results saved to {checkpoint_path}\")\n",
        "\n",
        "print(\"\\n All GPU KMeans runs complete.\")\n"
      ],
      "metadata": {
        "colab": {
          "base_uri": "https://localhost:8080/"
        },
        "id": "eS3lw7mDlyqf",
        "outputId": "3469b33b-8121-4e0e-d639-334056099e29"
      },
      "execution_count": 5,
      "outputs": [
        {
          "output_type": "stream",
          "name": "stdout",
          "text": [
            "\n",
            " [16:37:39] Starting GPU K-Means for: Full (95%) | Shape: (940481, 1)\n",
            "     k=2 | Silhouette=0.8696 | Time: 184.95s\n",
            "     k=3 | Silhouette=0.7866 | Time: 196.52s\n",
            "     k=4 | Silhouette=0.7586 | Time: 199.42s\n",
            "     k=5 | Silhouette=0.7009 | Time: 198.44s\n",
            "     k=6 | Silhouette=0.6887 | Time: 197.07s\n",
            "     k=7 | Silhouette=0.6522 | Time: 197.57s\n",
            "     k=8 | Silhouette=0.6467 | Time: 182.45s\n",
            "     k=9 | Silhouette=0.6399 | Time: 199.09s\n",
            " Optimal k: 2\n",
            "Final Metrics | Silhouette=0.8696 | Time: 1751.48s\n",
            " Results saved to /content/drive/MyDrive/NCU/Dissertation/Data/Processed/kmeans_gpu_progress.json\n",
            "\n",
            " [17:06:50] Starting GPU K-Means for: Full (2C) | Shape: (940481, 2)\n",
            "     k=2 | Silhouette=0.8572 | Time: 195.88s\n",
            "     k=3 | Silhouette=0.7531 | Time: 197.47s\n",
            "     k=4 | Silhouette=0.7140 | Time: 213.85s\n",
            "     k=5 | Silhouette=0.6211 | Time: 197.08s\n",
            "     k=6 | Silhouette=0.5997 | Time: 214.61s\n",
            "     k=7 | Silhouette=0.5259 | Time: 215.45s\n",
            "     k=8 | Silhouette=0.5133 | Time: 197.60s\n",
            "     k=9 | Silhouette=0.5016 | Time: 199.07s\n",
            " Optimal k: 2\n",
            "Final Metrics | Silhouette=0.8572 | Time: 1826.89s\n",
            " Results saved to /content/drive/MyDrive/NCU/Dissertation/Data/Processed/kmeans_gpu_progress.json\n",
            "\n",
            " [17:37:17] Starting GPU K-Means for: Full (3C) | Shape: (940481, 3)\n",
            "     k=2 | Silhouette=0.8569 | Time: 197.27s\n",
            "     k=3 | Silhouette=0.7518 | Time: 196.19s\n",
            "     k=4 | Silhouette=0.7122 | Time: 198.18s\n",
            "     k=5 | Silhouette=0.7117 | Time: 196.72s\n",
            "     k=6 | Silhouette=0.6181 | Time: 197.11s\n",
            "     k=7 | Silhouette=0.5964 | Time: 197.21s\n",
            "     k=8 | Silhouette=0.5214 | Time: 197.76s\n",
            "     k=9 | Silhouette=0.5809 | Time: 197.49s\n",
            " Optimal k: 2\n",
            "Final Metrics | Silhouette=0.8569 | Time: 1774.08s\n",
            " Results saved to /content/drive/MyDrive/NCU/Dissertation/Data/Processed/kmeans_gpu_progress.json\n",
            "\n",
            " [18:06:51] Starting GPU K-Means for: Key (95%) | Shape: (968524, 1)\n",
            "     k=2 | Silhouette=0.7081 | Time: 209.63s\n",
            "     k=3 | Silhouette=0.7030 | Time: 210.38s\n",
            "     k=4 | Silhouette=0.6826 | Time: 211.32s\n",
            "     k=5 | Silhouette=0.6648 | Time: 212.43s\n",
            "     k=6 | Silhouette=0.6154 | Time: 212.67s\n",
            "     k=7 | Silhouette=0.6480 | Time: 212.51s\n",
            "     k=8 | Silhouette=0.6134 | Time: 213.02s\n",
            "     k=9 | Silhouette=0.6506 | Time: 212.98s\n",
            " Optimal k: 2\n",
            "Final Metrics | Silhouette=0.7081 | Time: 1904.70s\n",
            " Results saved to /content/drive/MyDrive/NCU/Dissertation/Data/Processed/kmeans_gpu_progress.json\n",
            "\n",
            " [18:38:36] Starting GPU K-Means for: Key (2C) | Shape: (968524, 2)\n",
            "     k=2 | Silhouette=0.7070 | Time: 209.68s\n",
            "     k=3 | Silhouette=0.7002 | Time: 228.31s\n",
            "     k=4 | Silhouette=0.6423 | Time: 212.59s\n",
            "     k=5 | Silhouette=0.6555 | Time: 212.33s\n",
            "     k=6 | Silhouette=0.6399 | Time: 212.83s\n",
            "     k=7 | Silhouette=0.6241 | Time: 212.76s\n",
            "     k=8 | Silhouette=0.6449 | Time: 212.91s\n",
            "     k=9 | Silhouette=0.6407 | Time: 212.76s\n",
            " Optimal k: 2\n",
            "Final Metrics | Silhouette=0.7070 | Time: 1923.93s\n",
            " Results saved to /content/drive/MyDrive/NCU/Dissertation/Data/Processed/kmeans_gpu_progress.json\n",
            "\n",
            " [19:10:40] Starting GPU K-Means for: Key (3C) | Shape: (968524, 3)\n",
            "     k=2 | Silhouette=0.7069 | Time: 209.71s\n",
            "     k=3 | Silhouette=0.7000 | Time: 210.27s\n",
            "     k=4 | Silhouette=0.6420 | Time: 233.28s\n",
            "     k=5 | Silhouette=0.6551 | Time: 232.91s\n",
            "     k=6 | Silhouette=0.6449 | Time: 212.39s\n",
            "     k=7 | Silhouette=0.6350 | Time: 212.37s\n",
            "     k=8 | Silhouette=0.6240 | Time: 213.08s\n",
            "     k=9 | Silhouette=0.6227 | Time: 212.85s\n",
            " Optimal k: 2\n",
            "Final Metrics | Silhouette=0.7069 | Time: 1946.59s\n",
            " Results saved to /content/drive/MyDrive/NCU/Dissertation/Data/Processed/kmeans_gpu_progress.json\n",
            "\n",
            " All GPU KMeans runs complete.\n"
          ]
        }
      ]
    },
    {
      "cell_type": "code",
      "source": [
        "import json\n",
        "\n",
        "with open(\"/content/drive/MyDrive/NCU/Dissertation/Data/Processed/kmeans_gpu_progress.json\") as f:\n",
        "    kmeans_results = json.load(f)\n"
      ],
      "metadata": {
        "id": "-zSECIbtMSJn"
      },
      "execution_count": 9,
      "outputs": []
    }
  ]
}