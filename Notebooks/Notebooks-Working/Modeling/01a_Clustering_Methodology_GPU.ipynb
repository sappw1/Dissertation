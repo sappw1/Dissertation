{
  "nbformat": 4,
  "nbformat_minor": 0,
  "metadata": {
    "colab": {
      "provenance": [],
      "machine_shape": "hm",
      "gpuType": "A100",
      "authorship_tag": "ABX9TyNF49SmGBt+GeGsV+PV5Wt0",
      "include_colab_link": true
    },
    "kernelspec": {
      "name": "python3",
      "display_name": "Python 3"
    },
    "language_info": {
      "name": "python"
    },
    "accelerator": "GPU"
  },
  "cells": [
    {
      "cell_type": "markdown",
      "metadata": {
        "id": "view-in-github",
        "colab_type": "text"
      },
      "source": [
        "<a href=\"https://colab.research.google.com/github/sappw1/Dissertation/blob/main/Notebooks/Notebooks-Working/Modeling/01a_Clustering_Methodology_GPU.ipynb\" target=\"_parent\"><img src=\"https://colab.research.google.com/assets/colab-badge.svg\" alt=\"Open In Colab\"/></a>"
      ]
    },
    {
      "cell_type": "code",
      "source": [
        "!nvidia-smi"
      ],
      "metadata": {
        "colab": {
          "base_uri": "https://localhost:8080/"
        },
        "id": "-h_i1GkurKlW",
        "outputId": "26789d0f-78d1-4a5b-a0c6-4073ba2a5192"
      },
      "execution_count": 6,
      "outputs": [
        {
          "output_type": "stream",
          "name": "stdout",
          "text": [
            "Tue May 13 15:16:04 2025       \n",
            "+-----------------------------------------------------------------------------------------+\n",
            "| NVIDIA-SMI 550.54.15              Driver Version: 550.54.15      CUDA Version: 12.4     |\n",
            "|-----------------------------------------+------------------------+----------------------+\n",
            "| GPU  Name                 Persistence-M | Bus-Id          Disp.A | Volatile Uncorr. ECC |\n",
            "| Fan  Temp   Perf          Pwr:Usage/Cap |           Memory-Usage | GPU-Util  Compute M. |\n",
            "|                                         |                        |               MIG M. |\n",
            "|=========================================+========================+======================|\n",
            "|   0  NVIDIA L4                      Off |   00000000:00:03.0 Off |                    0 |\n",
            "| N/A   59C    P0             29W /   72W |     373MiB /  23034MiB |      0%      Default |\n",
            "|                                         |                        |                  N/A |\n",
            "+-----------------------------------------+------------------------+----------------------+\n",
            "                                                                                         \n",
            "+-----------------------------------------------------------------------------------------+\n",
            "| Processes:                                                                              |\n",
            "|  GPU   GI   CI        PID   Type   Process name                              GPU Memory |\n",
            "|        ID   ID                                                               Usage      |\n",
            "|=========================================================================================|\n",
            "+-----------------------------------------------------------------------------------------+\n"
          ]
        }
      ]
    },
    {
      "cell_type": "code",
      "source": [
        "from google.colab import drive\n",
        "import pandas as pd\n",
        "import numpy as np\n",
        "import matplotlib.pyplot as plt\n",
        "import cudf\n",
        "import cupy as cp\n",
        "import json, time, os\n",
        "from datetime import datetime\n",
        "from cuml.cluster import KMeans as cuKMeans\n",
        "from cuml.metrics.cluster.silhouette_score import cython_silhouette_score\n",
        "from sklearn.metrics import davies_bouldin_score\n",
        "# APA Style\n",
        "plt.style.use(\"default\")  # You can upload apa.mplstyle if needed"
      ],
      "metadata": {
        "id": "k5sSsYIPtFI_"
      },
      "execution_count": 3,
      "outputs": []
    },
    {
      "cell_type": "code",
      "source": [
        "import warnings\n",
        "warnings.filterwarnings('ignore')"
      ],
      "metadata": {
        "id": "0Rl0W9BtLGkF"
      },
      "execution_count": 1,
      "outputs": []
    },
    {
      "cell_type": "code",
      "source": [
        "# Mount your Drive\n",
        "drive.mount('/content/drive')\n",
        "\n",
        "# Set the path where your files are stored\n",
        "input_dir = \"/content/drive/MyDrive/NCU/Dissertation/Data/Processed/PCA_Arrays\"\n",
        "\n",
        "# Load each file\n",
        "X_all_pca = cp.load(os.path.join(input_dir, \"X_all_pca.npy\"))\n",
        "X_all_pca_2 = cp.load(os.path.join(input_dir, \"X_all_pca_2.npy\"))\n",
        "X_all_pca_3 = cp.load(os.path.join(input_dir, \"X_all_pca_3.npy\"))\n",
        "X_key_pca = cp.load(os.path.join(input_dir, \"X_key_pca.npy\"))\n",
        "X_key_pca_2 = cp.load(os.path.join(input_dir, \"X_key_pca_2.npy\"))\n",
        "X_key_pca_3 = cp.load(os.path.join(input_dir, \"X_key_pca_3.npy\"))\n",
        "\n",
        "print(\"All PCA arrays loaded from Google Drive.\")\n",
        "\n",
        "# Convert to GPU cuDF format\n",
        "def to_cudf(cp_array):\n",
        "    return cudf.DataFrame(cp_array)\n",
        "\n",
        "# Input dictionary\n",
        "pca_inputs = {\n",
        "    \"Full (95%)\": to_cudf(X_all_pca),\n",
        "    \"Full (2C)\": to_cudf(X_all_pca_2),\n",
        "    \"Full (3C)\": to_cudf(X_all_pca_3),\n",
        "    \"Key (95%)\": to_cudf(X_key_pca),\n",
        "    \"Key (2C)\": to_cudf(X_key_pca_2),\n",
        "    \"Key (3C)\": to_cudf(X_key_pca_3),\n",
        "}"
      ],
      "metadata": {
        "colab": {
          "base_uri": "https://localhost:8080/"
        },
        "id": "e17ARTeBoZpH",
        "outputId": "5703496e-b635-4a56-ace0-c623a7228bdd"
      },
      "execution_count": 4,
      "outputs": [
        {
          "output_type": "stream",
          "name": "stdout",
          "text": [
            "Drive already mounted at /content/drive; to attempt to forcibly remount, call drive.mount(\"/content/drive\", force_remount=True).\n",
            "All PCA arrays loaded from Google Drive.\n"
          ]
        }
      ]
    },
    {
      "cell_type": "code",
      "source": [
        "# Storage\n",
        "kmeans_results = {}\n",
        "checkpoint_path = \"/content/drive/MyDrive/NCU/Dissertation/Data/Processed/kmeans_gpu_progress.json\"  # Save to Drive if mounted\n",
        "\n",
        "os.makedirs(os.path.dirname(checkpoint_path), exist_ok=True)\n",
        "\n",
        "# Loop\n",
        "for name, X in pca_inputs.items():\n",
        "    print(f\"\\n [{datetime.now().strftime('%H:%M:%S')}] Starting GPU K-Means for: {name} | Shape: {X.shape}\")\n",
        "    start_time = time.time()\n",
        "\n",
        "    distortions = []\n",
        "    silhouette_scores = []\n",
        "    K_range = range(2, 10)\n",
        "\n",
        "    for k in K_range:\n",
        "        t0 = time.time()\n",
        "        km = cuKMeans(n_clusters=k, random_state=42, n_init=\"auto\")\n",
        "        km.fit(X)\n",
        "        labels = km.predict(X)\n",
        "        inertia = float(km.inertia_)\n",
        "        sil = float(cython_silhouette_score(X, labels, metric='euclidean'))\n",
        "        distortions.append(inertia)\n",
        "        silhouette_scores.append(sil)\n",
        "        print(f\"     k={k} | Silhouette={sil:.4f} | Time: {time.time() - t0:.2f}s\")\n",
        "\n",
        "    optimal_k = K_range[np.argmax(silhouette_scores)]\n",
        "    print(f\" Optimal k: {optimal_k}\")\n",
        "\n",
        "    # Final model\n",
        "    final_km = cuKMeans(n_clusters=optimal_k, random_state=42)\n",
        "    final_labels = final_km.fit_predict(X)\n",
        "    db_index = davies_bouldin_score(cp.asnumpy(X), cp.asnumpy(final_labels))\n",
        "    final_silhouette = float(cython_silhouette_score(X, final_labels, metric='euclidean'))\n",
        "\n",
        "    print(f\"Final Metrics | Silhouette={final_silhouette:.4f} | Time: {time.time() - start_time:.2f}s\")\n",
        "\n",
        "    # Store results\n",
        "    kmeans_results[name] = {\n",
        "        \"optimal_k\": int(optimal_k),\n",
        "        \"silhouette\": final_silhouette,\n",
        "        \"db_index\": db_index,\n",
        "        \"k_values\": list(K_range),\n",
        "        \"silhouette_scores\": silhouette_scores,\n",
        "        \"distortions\": distortions,\n",
        "    }\n",
        "\n",
        "    # Save checkpoint\n",
        "    with open(checkpoint_path, \"w\") as f:\n",
        "        json.dump(kmeans_results, f, indent=4)\n",
        "\n",
        "    print(f\" Results saved to {checkpoint_path}\")\n",
        "\n",
        "print(\"\\n All GPU KMeans runs complete.\")\n"
      ],
      "metadata": {
        "colab": {
          "base_uri": "https://localhost:8080/",
          "height": 245
        },
        "id": "eS3lw7mDlyqf",
        "outputId": "7b785d9f-f925-40c5-9410-01fe6adb2e2f"
      },
      "execution_count": 5,
      "outputs": [
        {
          "output_type": "stream",
          "name": "stdout",
          "text": [
            "\n",
            " [15:04:31] Starting GPU K-Means for: Full (95%) | Shape: (940481, 1)\n"
          ]
        },
        {
          "output_type": "error",
          "ename": "AttributeError",
          "evalue": "'float' object has no attribute 'get'",
          "traceback": [
            "\u001b[0;31m---------------------------------------------------------------------------\u001b[0m",
            "\u001b[0;31mAttributeError\u001b[0m                            Traceback (most recent call last)",
            "\u001b[0;32m<ipython-input-5-79ed057c51e4>\u001b[0m in \u001b[0;36m<cell line: 0>\u001b[0;34m()\u001b[0m\n\u001b[1;32m     20\u001b[0m         \u001b[0mlabels\u001b[0m \u001b[0;34m=\u001b[0m \u001b[0mkm\u001b[0m\u001b[0;34m.\u001b[0m\u001b[0mpredict\u001b[0m\u001b[0;34m(\u001b[0m\u001b[0mX\u001b[0m\u001b[0;34m)\u001b[0m\u001b[0;34m\u001b[0m\u001b[0;34m\u001b[0m\u001b[0m\n\u001b[1;32m     21\u001b[0m         \u001b[0minertia\u001b[0m \u001b[0;34m=\u001b[0m \u001b[0mfloat\u001b[0m\u001b[0;34m(\u001b[0m\u001b[0mkm\u001b[0m\u001b[0;34m.\u001b[0m\u001b[0minertia_\u001b[0m\u001b[0;34m)\u001b[0m\u001b[0;34m\u001b[0m\u001b[0;34m\u001b[0m\u001b[0m\n\u001b[0;32m---> 22\u001b[0;31m         \u001b[0msil\u001b[0m \u001b[0;34m=\u001b[0m \u001b[0mfloat\u001b[0m\u001b[0;34m(\u001b[0m\u001b[0mcython_silhouette_score\u001b[0m\u001b[0;34m(\u001b[0m\u001b[0mX\u001b[0m\u001b[0;34m,\u001b[0m \u001b[0mlabels\u001b[0m\u001b[0;34m,\u001b[0m \u001b[0mmetric\u001b[0m\u001b[0;34m=\u001b[0m\u001b[0;34m'euclidean'\u001b[0m\u001b[0;34m)\u001b[0m\u001b[0;34m.\u001b[0m\u001b[0mget\u001b[0m\u001b[0;34m(\u001b[0m\u001b[0;34m)\u001b[0m\u001b[0;34m)\u001b[0m\u001b[0;34m\u001b[0m\u001b[0;34m\u001b[0m\u001b[0m\n\u001b[0m\u001b[1;32m     23\u001b[0m         \u001b[0mdistortions\u001b[0m\u001b[0;34m.\u001b[0m\u001b[0mappend\u001b[0m\u001b[0;34m(\u001b[0m\u001b[0minertia\u001b[0m\u001b[0;34m)\u001b[0m\u001b[0;34m\u001b[0m\u001b[0;34m\u001b[0m\u001b[0m\n\u001b[1;32m     24\u001b[0m         \u001b[0msilhouette_scores\u001b[0m\u001b[0;34m.\u001b[0m\u001b[0mappend\u001b[0m\u001b[0;34m(\u001b[0m\u001b[0msil\u001b[0m\u001b[0;34m)\u001b[0m\u001b[0;34m\u001b[0m\u001b[0;34m\u001b[0m\u001b[0m\n",
            "\u001b[0;31mAttributeError\u001b[0m: 'float' object has no attribute 'get'"
          ]
        }
      ]
    }
  ]
}