{
  "nbformat": 4,
  "nbformat_minor": 0,
  "metadata": {
    "colab": {
      "provenance": [],
      "authorship_tag": "ABX9TyMJ4CW+kGFm7b7pb84pUOc8",
      "include_colab_link": true
    },
    "kernelspec": {
      "name": "python3",
      "display_name": "Python 3"
    },
    "language_info": {
      "name": "python"
    }
  },
  "cells": [
    {
      "cell_type": "markdown",
      "metadata": {
        "id": "view-in-github",
        "colab_type": "text"
      },
      "source": [
        "<a href=\"https://colab.research.google.com/github/sappw1/Dissertation/blob/main/Notebooks/Working/Modeling/04_Hier.ipynb\" target=\"_parent\"><img src=\"https://colab.research.google.com/assets/colab-badge.svg\" alt=\"Open In Colab\"/></a>"
      ]
    },
    {
      "cell_type": "code",
      "execution_count": null,
      "metadata": {
        "id": "zP26B94Fymn6"
      },
      "outputs": [],
      "source": [
        "!nvidia-smi"
      ]
    },
    {
      "cell_type": "code",
      "source": [
        "# Cell 1: Import packages\n",
        "import os\n",
        "import json\n",
        "import numpy as np\n",
        "import pandas as pd\n",
        "import matplotlib.pyplot as plt\n",
        "\n",
        "from cuml.metrics import silhouette_score\n",
        "from cuml import AgglomerativeClustering\n",
        "\n",
        "from sklearn.metrics import davies_bouldin_score\n",
        "from scipy.cluster.hierarchy import dendrogram, linkage\n",
        "\n",
        "import cupy as cp\n",
        "import cudf\n",
        "\n",
        "plt.style.use(\"/content/drive/MyDrive/NCU/Dissertation/apa.mplstyle\")  # Optional\n"
      ],
      "metadata": {
        "id": "tYyHjA-wy4zP"
      },
      "execution_count": null,
      "outputs": []
    },
    {
      "cell_type": "code",
      "source": [
        "# Cell 2: Load PCA arrays + labels\n",
        "def load_hierarchical_data(base_dir):\n",
        "    data = {}\n",
        "\n",
        "    # Labels\n",
        "    y_path = os.path.join(base_dir, \"PCA\", \"y_labels.pkl\")\n",
        "    y = pd.read_pickle(y_path)\n",
        "\n",
        "    index_all = pd.read_csv(os.path.join(base_dir, \"PCA\", \"index_all_scaled.csv\"), index_col=0).index\n",
        "    index_key = pd.read_csv(os.path.join(base_dir, \"PCA\", \"index_key_scaled.csv\"), index_col=0).index\n",
        "\n",
        "    data[\"y_all\"] = y.loc[index_all].values\n",
        "    data[\"y_key\"] = y.loc[index_key].values\n",
        "\n",
        "    # PCA inputs\n",
        "    variants = {\n",
        "        \"x_all_pca_2\": \"X_all_pca_2.npy\",\n",
        "        \"x_all_pca_3\": \"X_all_pca_3.npy\",\n",
        "        \"x_key_pca_2\": \"X_key_pca_2.npy\",\n",
        "        \"x_key_pca_3\": \"X_key_pca_3.npy\",\n",
        "    }\n",
        "\n",
        "    for key, filename in variants.items():\n",
        "        path = os.path.join(base_dir, \"PCA\", filename)\n",
        "        data[key] = np.load(path)\n",
        "\n",
        "    return data\n"
      ],
      "metadata": {
        "id": "Oy7ClFsay8lb"
      },
      "execution_count": null,
      "outputs": []
    },
    {
      "cell_type": "code",
      "source": [
        "def run_hierarchical_clustering_all(input_dict, output_dir, result_path, n_clusters=2):\n",
        "    \"\"\"\n",
        "    Runs Agglomerative Clustering on each PCA config, stores labels and metrics.\n",
        "    \"\"\"\n",
        "    os.makedirs(output_dir, exist_ok=True)\n",
        "\n",
        "    # Load or initialize results\n",
        "    if os.path.exists(result_path):\n",
        "        with open(result_path, \"r\") as f:\n",
        "            results = json.load(f)\n",
        "    else:\n",
        "        results = {}\n",
        "\n",
        "    for name, X in input_dict.items():\n",
        "        print(f\"\\n Running Agglomerative Clustering for: {name} | Shape: {X.shape}\")\n",
        "\n",
        "        # Convert to cuDF if not already\n",
        "        if not isinstance(X, cudf.DataFrame):\n",
        "            X = cudf.DataFrame(X)\n",
        "\n",
        "        model = AgglomerativeClustering(n_clusters=n_clusters, linkage=\"complete\")\n",
        "        labels = model.fit_predict(X)\n",
        "\n",
        "        # Save labels to file\n",
        "        label_file = f\"labels_hier_{name.lower().replace(' ', '_').replace('(', '').replace(')', '')}.npy\"\n",
        "        np.save(os.path.join(output_dir, label_file), labels)\n",
        "\n",
        "        # Compute metrics\n",
        "        try:\n",
        "            sil = float(cython_silhouette_score(X, labels, metric='euclidean'))\n",
        "            dbi = float(davies_bouldin_score(X.to_numpy(), labels))\n",
        "        except Exception as e:\n",
        "            print(f\" Metric error on {name}: {e}\")\n",
        "            sil, dbi = \"-\", \"-\"\n",
        "\n",
        "        results[name] = {\n",
        "            \"n_clusters\": int(n_clusters),\n",
        "            \"silhouette\": sil,\n",
        "            \"db_index\": dbi\n",
        "        }\n",
        "\n",
        "        # Save JSON after each config\n",
        "        with open(result_path, \"w\") as f:\n",
        "            json.dump(results, f, indent=4)\n",
        "\n",
        "        print(f\" Saved: {label_file} | Silhouette={sil}, DBI={dbi}\")\n",
        "\n",
        "    print(\"\\n Hierarchical clustering complete for all configurations.\")\n",
        "\n"
      ],
      "metadata": {
        "id": "ISU1oEn3y-Mm"
      },
      "execution_count": null,
      "outputs": []
    },
    {
      "cell_type": "code",
      "source": [
        "# Cell 4: Dendrogram using scipy (CPU, small sample size)\n",
        "def plot_dendrogram(x, label, save_path=None, truncate_n=200):\n",
        "    subset = x[:truncate_n]\n",
        "    linkage_matrix = linkage(subset, method=\"complete\", metric=\"euclidean\")\n",
        "\n",
        "    plt.figure(figsize=(10, 4))\n",
        "    dendrogram(linkage_matrix, truncate_mode=\"lastp\", p=25, leaf_rotation=90)\n",
        "    plt.title(f\"Dendrogram: {label}\")\n",
        "    plt.xlabel(\"Sample Index\")\n",
        "    plt.ylabel(\"Distance\")\n",
        "\n",
        "    if save_path:\n",
        "        plt.savefig(save_path, dpi=300)\n",
        "    plt.show()\n"
      ],
      "metadata": {
        "id": "Qldzq50XzcZd"
      },
      "execution_count": null,
      "outputs": []
    },
    {
      "cell_type": "code",
      "source": [
        "# Cell 5: 2D/3D cluster plot with fraud overlay\n",
        "def plot_cluster_projection(x, y, labels, title, save_path=None):\n",
        "    plt.figure(figsize=(5, 5))\n",
        "    plt.scatter(x[:, 0], x[:, 1], c=labels, cmap=\"cividis\", alpha=0.6, s=10)\n",
        "    plt.scatter(x[y == 1][:, 0], x[y == 1][:, 1], c='red', marker='x', s=10, label=\"Fraud\")\n",
        "    plt.title(title)\n",
        "    plt.xlabel(\"PC1\")\n",
        "    plt.ylabel(\"PC2\")\n",
        "    plt.legend(loc=\"upper right\", fontsize=\"small\")\n",
        "\n",
        "    if save_path:\n",
        "        plt.savefig(save_path, dpi=300)\n",
        "    plt.show()\n"
      ],
      "metadata": {
        "id": "amZyQNgXzePH"
      },
      "execution_count": null,
      "outputs": []
    },
    {
      "cell_type": "code",
      "source": [
        "# Cell 6: Run all\n",
        "base_dir = \"/content/drive/MyDrive/NCU/Dissertation/Data/Processed/Clustering\"\n",
        "data = load_hierarchical_data(base_dir)\n",
        "\n",
        "output_dir = \"/content/drive/MyDrive/NCU/Dissertation/Figures/HierarchicalPlots\"\n",
        "os.makedirs(output_dir, exist_ok=True)\n",
        "\n",
        "# Configurations to run\n",
        "configurations = {\n",
        "    \"Full (2C)\": (\"x_all_pca_2\", \"y_all\", 2),\n",
        "    \"Full (3C)\": (\"x_all_pca_3\", \"y_all\", 2),\n",
        "    \"Key (2C)\": (\"x_key_pca_2\", \"y_key\", 2),\n",
        "    \"Key (3C)\": (\"x_key_pca_3\", \"y_key\", 2),\n",
        "}\n",
        "\n",
        "for label, (x_key, y_key, n_clusters) in configurations.items():\n",
        "    x = data[x_key]\n",
        "    y = data[y_key]\n",
        "\n",
        "    print(f\"\\n {label}: Running Agglomerative Clustering with k={n_clusters}\")\n",
        "    labels = run_hierarchical_clustering(x, n_clusters=n_clusters)\n",
        "\n",
        "    # Save projection plot\n",
        "    proj_path = os.path.join(output_dir, f\"hierarchical_projection_{label.lower().replace(' ', '_').replace('(', '').replace(')', '')}.png\")\n",
        "    plot_cluster_projection(x, y, labels, title=f\"{label}: k = {n_clusters}\", save_path=proj_path)\n",
        "\n",
        "    # Save dendrogram\n",
        "    dendro_path = os.path.join(output_dir, f\"hierarchical_dendrogram_{label.lower().replace(' ', '_').replace('(', '').replace(')', '')}.png\")\n",
        "    plot_dendrogram(x, label=label, save_path=dendro_path)\n"
      ],
      "metadata": {
        "id": "77CXG_VkzgKs"
      },
      "execution_count": null,
      "outputs": []
    }
  ]
}